{
 "cells": [
  {
   "cell_type": "code",
   "execution_count": 1,
   "id": "256635c9",
   "metadata": {},
   "outputs": [],
   "source": [
    "import tensorflow as tf\n",
    "import matplotlib.pyplot as plt\n",
    "import pandas as pd\n",
    "import numpy as np\n",
    "from keras.layers import Dense, Dropout, Activation, Flatten\n",
    "from keras.layers import Conv2D, MaxPooling2D, GlobalAveragePooling2D\n",
    "import itertools"
   ]
  },
  {
   "cell_type": "code",
   "execution_count": 5,
   "id": "85db650e",
   "metadata": {},
   "outputs": [
    {
     "name": "stdout",
     "output_type": "stream",
     "text": [
      "done\n"
     ]
    }
   ],
   "source": [
    "from os import listdir\n",
    "from os.path import isdir, isfile, join\n",
    "from keras.preprocessing.image import ImageDataGenerator\n",
    "from keras.callbacks import ModelCheckpoint, EarlyStopping\n",
    "from keras.applications import InceptionV3\n",
    "from sklearn.metrics import accuracy_score, precision_recall_fscore_support\n",
    "\n",
    "\n",
    "from zipfile import ZipFile\n",
    "file_name = \"Cleaned Data.zip\" ## NOTE :Copy paste the location of dataset folder (convert the folder to zip if it's not)\n",
    "\n",
    "\n",
    "with ZipFile(file_name,\"r\") as zip:\n",
    "    zip.extractall()\n",
    "    print(\"done\")\n"
   ]
  },
  {
   "cell_type": "code",
   "execution_count": 9,
   "id": "df5c7938",
   "metadata": {},
   "outputs": [
    {
     "data": {
      "text/plain": [
       "['Bevel-gear',\n",
       " 'bearing',\n",
       " 'clutch',\n",
       " 'cylincer',\n",
       " 'fuel-tank',\n",
       " 'piston',\n",
       " 'rack-pinion',\n",
       " 'shocker']"
      ]
     },
     "execution_count": 9,
     "metadata": {},
     "output_type": "execute_result"
    }
   ],
   "source": [
    "classes = sorted(listdir(\"Cleaned Data\"))\n",
    "classes"
   ]
  },
  {
   "cell_type": "code",
   "execution_count": 13,
   "id": "672c1e60",
   "metadata": {},
   "outputs": [
    {
     "name": "stdout",
     "output_type": "stream",
     "text": [
      "Collecting split-folders\n",
      "  Downloading split_folders-0.5.1-py3-none-any.whl (8.4 kB)\n",
      "Installing collected packages: split-folders\n",
      "Successfully installed split-folders-0.5.1\n",
      "Note: you may need to restart the kernel to use updated packages.\n"
     ]
    }
   ],
   "source": [
    "pip install split-folders"
   ]
  },
  {
   "cell_type": "code",
   "execution_count": 19,
   "id": "b40807d9",
   "metadata": {},
   "outputs": [
    {
     "name": "stderr",
     "output_type": "stream",
     "text": [
      "Copying files: 195 files [00:01, 109.14 files/s]\n"
     ]
    }
   ],
   "source": [
    "import splitfolders\n",
    "input_folder=\"Cleaned Data\"\n",
    "splitfolders.ratio(input_folder,\n",
    "                    output = \"data_split\",\n",
    "                    seed=42,\n",
    "                    ratio=(0.7, 0.1, 0.2))"
   ]
  },
  {
   "cell_type": "code",
   "execution_count": 20,
   "id": "d8a84ca4",
   "metadata": {},
   "outputs": [
    {
     "name": "stdout",
     "output_type": "stream",
     "text": [
      "Found 133 images belonging to 8 classes.\n",
      "Found 45 images belonging to 8 classes.\n",
      "Found 16 images belonging to 8 classes.\n"
     ]
    }
   ],
   "source": [
    "#Data Preprocessing\n",
    "\n",
    "from keras.preprocessing.image import ImageDataGenerator\n",
    "\n",
    "train_datagen= ImageDataGenerator(\n",
    "    rescale=1./255,\n",
    "    shear_range=0.5,\n",
    "    zoom_range=0.2,\n",
    "    horizontal_flip=True,\n",
    "    vertical_flip=True,\n",
    "    rotation_range=40,\n",
    "    brightness_range=[0.1,0.9]\n",
    ").flow_from_directory(\"data_split/train\",\n",
    "                      target_size=(244,244),\n",
    "                      batch_size=20,\n",
    "                      class_mode=\"categorical\"\n",
    "                     )\n",
    "                                  \n",
    "test_datagen=ImageDataGenerator(\n",
    "    rescale=1./255\n",
    ").flow_from_directory(\"data_split/test\",\n",
    "                      target_size=(244,244),\n",
    "                      batch_size=20,\n",
    "                      class_mode=\"categorical\",\n",
    "                      shuffle=False)\n",
    "\n",
    "valid_datagen= ImageDataGenerator(\n",
    "    rescale=1./255,\n",
    "    shear_range=0.5,\n",
    "    zoom_range=0.2,\n",
    "    horizontal_flip=True,\n",
    "    vertical_flip=True,\n",
    "    rotation_range=40,\n",
    "    brightness_range=[0.1,0.9]\n",
    ").flow_from_directory(\"data_split/val\",\n",
    "                      target_size=(244,244),\n",
    "                      batch_size=20,\n",
    "                      class_mode=\"categorical\")"
   ]
  },
  {
   "cell_type": "markdown",
   "id": "8377b264",
   "metadata": {},
   "source": [
    "# Till now the data is splited into  \"train,test,val\" and preprocessed as  well Now you have to  "
   ]
  },
  {
   "cell_type": "code",
   "execution_count": null,
   "id": "1914725f",
   "metadata": {},
   "outputs": [],
   "source": []
  }
 ],
 "metadata": {
  "kernelspec": {
   "display_name": "Python 3 (ipykernel)",
   "language": "python",
   "name": "python3"
  },
  "language_info": {
   "codemirror_mode": {
    "name": "ipython",
    "version": 3
   },
   "file_extension": ".py",
   "mimetype": "text/x-python",
   "name": "python",
   "nbconvert_exporter": "python",
   "pygments_lexer": "ipython3",
   "version": "3.9.16"
  }
 },
 "nbformat": 4,
 "nbformat_minor": 5
}
